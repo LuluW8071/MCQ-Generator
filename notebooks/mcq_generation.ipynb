{
 "cells": [
  {
   "cell_type": "code",
   "execution_count": 1,
   "metadata": {},
   "outputs": [],
   "source": [
    "import os \n",
    "import json"
   ]
  },
  {
   "cell_type": "code",
   "execution_count": 2,
   "metadata": {},
   "outputs": [],
   "source": [
    "from dotenv import load_dotenv\n",
    "load_dotenv()\n",
    "\n",
    "# Get openai_key from .env\n",
    "GOOGLE_API_KEY = os.getenv(\"GOOGLE_API_KEY\")"
   ]
  },
  {
   "cell_type": "code",
   "execution_count": 193,
   "metadata": {},
   "outputs": [],
   "source": [
    "from langchain_google_genai import ChatGoogleGenerativeAI\n",
    "from tqdm import tqdm\n",
    "\n",
    "llm = ChatGoogleGenerativeAI(model=\"gemini-1.5-flash\", temperature=0.5)"
   ]
  },
  {
   "cell_type": "code",
   "execution_count": 194,
   "metadata": {},
   "outputs": [],
   "source": [
    "# from langchain.llms import OpenAI\n",
    "from langchain.prompts import PromptTemplate\n",
    "from langchain.chains import LLMChain, SequentialChain"
   ]
  },
  {
   "cell_type": "code",
   "execution_count": 195,
   "metadata": {},
   "outputs": [],
   "source": [
    "RESPONSE_JSON = {\n",
    "    \"1\": {\n",
    "        \"mcq\": \"multiple choice question\",\n",
    "        \"options\": {\n",
    "            \"a\": \"choice here\",\n",
    "            \"b\": \"choice here\",\n",
    "            \"c\": \"choice here\",\n",
    "            \"d\": \"choice here\",\n",
    "        },\n",
    "        \"correct\": \"correct answer\",\n",
    "    },\n",
    "    \"2\": {\n",
    "        \"mcq\": \"multiple choice question\",\n",
    "        \"options\": {\n",
    "            \"a\": \"choice here\",\n",
    "            \"b\": \"choice here\",\n",
    "            \"c\": \"choice here\",\n",
    "            \"d\": \"choice here\",\n",
    "        },\n",
    "        \"correct\": \"correct answer\",\n",
    "    },\n",
    "    \"3\": {\n",
    "        \"mcq\": \"multiple choice question\",\n",
    "        \"options\": {\n",
    "            \"a\": \"choice here\",\n",
    "            \"b\": \"choice here\",\n",
    "            \"c\": \"choice here\",\n",
    "            \"d\": \"choice here\",\n",
    "        },\n",
    "        \"correct\": \"correct answer\",\n",
    "    },\n",
    "}"
   ]
  },
  {
   "cell_type": "code",
   "execution_count": 196,
   "metadata": {},
   "outputs": [],
   "source": [
    "# Creating a zero-shot prompt template\n",
    "TEMPLATE=\"\"\"\"\n",
    "Text: {text}\n",
    "You are an expert MCQ maker. Given the above text, it is your job to \\\n",
    "    create a quiz of {number} multiple choice questions for {subject} students in {tone} tone.\n",
    "    Make sure the questions are not repeated and check all the questions to be conforming the text as well.\n",
    "    Make sure to format your response like RESPONSE_JSON below with appropriate json structure and use it as a guide. \\\n",
    "    Ensure to make {number} MCQs\n",
    "\n",
    "    {response_json}\n",
    "\"\"\""
   ]
  },
  {
   "cell_type": "code",
   "execution_count": 197,
   "metadata": {},
   "outputs": [],
   "source": [
    "quiz_generation_prompt = PromptTemplate(\n",
    "    input_variables=[\"text\", \"number\", \"subject\", \"tone\", \"response_json\"],\n",
    "    template=TEMPLATE\n",
    ")"
   ]
  },
  {
   "cell_type": "code",
   "execution_count": 198,
   "metadata": {},
   "outputs": [],
   "source": [
    "# Setting up the LLMChain\n",
    "quiz_chain = LLMChain(llm=llm, prompt=quiz_generation_prompt, output_key=\"quiz\", verbose=True)"
   ]
  },
  {
   "cell_type": "code",
   "execution_count": 199,
   "metadata": {},
   "outputs": [],
   "source": [
    "TEMPLATE2=\"\"\"\n",
    "You are an expert english grammarian and writer. Given a Multiple Choice Quiz for {subject} students.\\\n",
    "You need to evaluate the complexity of the question and give a complete analysis of the quiz. Only use at max 50 words for complexity analysis. \n",
    "if the quiz is not at per with the cognitive and analytical abilities of the students,\\\n",
    "update the quiz questions which needs to be changed and change the tone such that it perfectly fits the student abilities\n",
    "Quiz_MCQs:\n",
    "{quiz}\n",
    "\n",
    "Check from an expert English Writer of the above quiz:\n",
    "\"\"\""
   ]
  },
  {
   "cell_type": "code",
   "execution_count": 200,
   "metadata": {},
   "outputs": [],
   "source": [
    "quiz_evaluation_prompt = PromptTemplate(input_variables=[\"subject\", \"quiz'\"], template=TEMPLATE2)"
   ]
  },
  {
   "cell_type": "code",
   "execution_count": 201,
   "metadata": {},
   "outputs": [],
   "source": [
    "review_chain = LLMChain(llm=llm, prompt=quiz_evaluation_prompt, output_key=\"review\", verbose=True)"
   ]
  },
  {
   "cell_type": "code",
   "execution_count": 202,
   "metadata": {},
   "outputs": [],
   "source": [
    "# Sequential Chain\n",
    "generate_evaluate_chain = SequentialChain(\n",
    "    chains=[quiz_chain, review_chain],\n",
    "    input_variables=[\"text\", \"number\", \"subject\", \"tone\", \"response_json\"],\n",
    "    output_variables=[\"quiz\", \"review\"],\n",
    "    verbose=True\n",
    ")"
   ]
  },
  {
   "cell_type": "code",
   "execution_count": 203,
   "metadata": {},
   "outputs": [],
   "source": [
    "# Read data from .txt file\n",
    "file_path = \"../data.txt\"\n",
    "\n",
    "try:\n",
    "    with open(file_path, 'r') as file:\n",
    "        TEXT = file.read()\n",
    "except:\n",
    "    print(\"data.txt NOT FOUND\")"
   ]
  },
  {
   "cell_type": "code",
   "execution_count": 204,
   "metadata": {},
   "outputs": [
    {
     "name": "stdout",
     "output_type": "stream",
     "text": [
      "Deep Learning is a specialized area within the broader field of machine learning that focuses on algorithms modeled after the human brain’s architecture. It employs deep neural networks, which consist of multiple layers of interconnected nodes, to process data and identify intricate patterns and representations. Unlike traditional machine learning methods, which often rely on manually engineered features, deep learning models automatically learn hierarchical features directly from raw data. This capability makes them particularly effective in handling and analyzing large volumes of unstructured data such as images, audio, and text. The training of deep learning models is computationally intensive and typically requires powerful hardware like GPUs or TPUs to handle the large-scale data and complex calculations involved. Advances in deep learning have led to significant improvements in areas such as speech recognition, image classification, and autonomous systems, driving innovation across various industries.\n",
      "\n",
      "Computer Vision is a field that intersects with deep learning and focuses on enabling machines to interpret and understand visual information from the world, similar to how humans perceive and understand visual inputs. Using deep learning techniques, computer vision systems can perform tasks such as object detection, facial recognition, and image segmentation with high accuracy. Convolutional Neural Networks (CNNs) are a cornerstone of computer vision, designed specifically to process and analyze image data by capturing spatial hierarchies and patterns. These networks use convolutional layers to detect features like edges, textures, and shapes, which are then combined through deeper layers to understand more complex structures. Applications of computer vision are vast, ranging from medical imaging and autonomous vehicles to augmented reality and facial recognition systems, transforming how visual data is processed and utilized in technology.\n",
      "\n",
      "Natural Language Processing (NLP) is a subfield of artificial intelligence that focuses on the interaction between computers and human language. NLP enables machines to understand, interpret, and generate human language in a way that is both meaningful and useful. Deep learning has revolutionized NLP by providing sophisticated models that can handle tasks such as machine translation, sentiment analysis, and text generation. Techniques like Recurrent Neural Networks (RNNs) and Transformers are pivotal in NLP, as they excel at capturing the sequential and contextual nature of language. Transformers, in particular, have become the foundation of state-of-the-art language models like GPT (Generative Pre-trained Transformer) and BERT (Bidirectional Encoder Representations from Transformers), which are capable of generating coherent text, answering questions, and performing complex language understanding tasks. The advancements in NLP driven by deep learning are enhancing communication technologies, improving automated customer service, and enabling more intuitive human-computer interactions.\n"
     ]
    }
   ],
   "source": [
    "print(TEXT)"
   ]
  },
  {
   "cell_type": "code",
   "execution_count": 205,
   "metadata": {},
   "outputs": [
    {
     "data": {
      "text/plain": [
       "'{\"1\": {\"mcq\": \"multiple choice question\", \"options\": {\"a\": \"choice here\", \"b\": \"choice here\", \"c\": \"choice here\", \"d\": \"choice here\"}, \"correct\": \"correct answer\"}, \"2\": {\"mcq\": \"multiple choice question\", \"options\": {\"a\": \"choice here\", \"b\": \"choice here\", \"c\": \"choice here\", \"d\": \"choice here\"}, \"correct\": \"correct answer\"}, \"3\": {\"mcq\": \"multiple choice question\", \"options\": {\"a\": \"choice here\", \"b\": \"choice here\", \"c\": \"choice here\", \"d\": \"choice here\"}, \"correct\": \"correct answer\"}}'"
      ]
     },
     "execution_count": 205,
     "metadata": {},
     "output_type": "execute_result"
    }
   ],
   "source": [
    "# Serialize the python dicitonary into a JSON formatted string\n",
    "json.dumps(RESPONSE_JSON)"
   ]
  },
  {
   "cell_type": "code",
   "execution_count": 206,
   "metadata": {},
   "outputs": [],
   "source": [
    "NUM = 3                             # No of MCQ to generate\n",
    "SUB = \"Deep Learning\"               # Subject\n",
    "TONE = \"Mid\"                        # Simplicity Level: Easy, Mid, Hard, Very-Hard"
   ]
  },
  {
   "cell_type": "code",
   "execution_count": 207,
   "metadata": {},
   "outputs": [
    {
     "name": "stdout",
     "output_type": "stream",
     "text": [
      "\n",
      "\n",
      "\u001b[1m> Entering new SequentialChain chain...\u001b[0m\n",
      "\n",
      "\n",
      "\u001b[1m> Entering new LLMChain chain...\u001b[0m\n",
      "Prompt after formatting:\n",
      "\u001b[32;1m\u001b[1;3m\"\n",
      "Text: Deep Learning is a specialized area within the broader field of machine learning that focuses on algorithms modeled after the human brain’s architecture. It employs deep neural networks, which consist of multiple layers of interconnected nodes, to process data and identify intricate patterns and representations. Unlike traditional machine learning methods, which often rely on manually engineered features, deep learning models automatically learn hierarchical features directly from raw data. This capability makes them particularly effective in handling and analyzing large volumes of unstructured data such as images, audio, and text. The training of deep learning models is computationally intensive and typically requires powerful hardware like GPUs or TPUs to handle the large-scale data and complex calculations involved. Advances in deep learning have led to significant improvements in areas such as speech recognition, image classification, and autonomous systems, driving innovation across various industries.\n",
      "\n",
      "Computer Vision is a field that intersects with deep learning and focuses on enabling machines to interpret and understand visual information from the world, similar to how humans perceive and understand visual inputs. Using deep learning techniques, computer vision systems can perform tasks such as object detection, facial recognition, and image segmentation with high accuracy. Convolutional Neural Networks (CNNs) are a cornerstone of computer vision, designed specifically to process and analyze image data by capturing spatial hierarchies and patterns. These networks use convolutional layers to detect features like edges, textures, and shapes, which are then combined through deeper layers to understand more complex structures. Applications of computer vision are vast, ranging from medical imaging and autonomous vehicles to augmented reality and facial recognition systems, transforming how visual data is processed and utilized in technology.\n",
      "\n",
      "Natural Language Processing (NLP) is a subfield of artificial intelligence that focuses on the interaction between computers and human language. NLP enables machines to understand, interpret, and generate human language in a way that is both meaningful and useful. Deep learning has revolutionized NLP by providing sophisticated models that can handle tasks such as machine translation, sentiment analysis, and text generation. Techniques like Recurrent Neural Networks (RNNs) and Transformers are pivotal in NLP, as they excel at capturing the sequential and contextual nature of language. Transformers, in particular, have become the foundation of state-of-the-art language models like GPT (Generative Pre-trained Transformer) and BERT (Bidirectional Encoder Representations from Transformers), which are capable of generating coherent text, answering questions, and performing complex language understanding tasks. The advancements in NLP driven by deep learning are enhancing communication technologies, improving automated customer service, and enabling more intuitive human-computer interactions.\n",
      "You are an expert MCQ maker. Given the above text, it is your job to     create a quiz of 3 multiple choice questions for Deep Learning students in Mid tone.\n",
      "    Make sure the questions are not repeated and check all the questions to be conforming the text as well.\n",
      "    Make sure to format your response like RESPONSE_JSON below with appropriate json structure and use it as a guide.     Ensure to make 3 MCQs\n",
      "\n",
      "    {\"1\": {\"mcq\": \"multiple choice question\", \"options\": {\"a\": \"choice here\", \"b\": \"choice here\", \"c\": \"choice here\", \"d\": \"choice here\"}, \"correct\": \"correct answer\"}, \"2\": {\"mcq\": \"multiple choice question\", \"options\": {\"a\": \"choice here\", \"b\": \"choice here\", \"c\": \"choice here\", \"d\": \"choice here\"}, \"correct\": \"correct answer\"}, \"3\": {\"mcq\": \"multiple choice question\", \"options\": {\"a\": \"choice here\", \"b\": \"choice here\", \"c\": \"choice here\", \"d\": \"choice here\"}, \"correct\": \"correct answer\"}}\n",
      "\u001b[0m\n"
     ]
    },
    {
     "name": "stdout",
     "output_type": "stream",
     "text": [
      "\n",
      "\u001b[1m> Finished chain.\u001b[0m\n",
      "\n",
      "\n",
      "\u001b[1m> Entering new LLMChain chain...\u001b[0m\n",
      "Prompt after formatting:\n",
      "\u001b[32;1m\u001b[1;3m\n",
      "You are an expert english grammarian and writer. Given a Multiple Choice Quiz for Deep Learning students.You need to evaluate the complexity of the question and give a complete analysis of the quiz. Only use at max 50 words for complexity analysis. \n",
      "if the quiz is not at per with the cognitive and analytical abilities of the students,update the quiz questions which needs to be changed and change the tone such that it perfectly fits the student abilities\n",
      "Quiz_MCQs:\n",
      "```json\n",
      "{\"1\": {\"mcq\": \"What makes deep learning models particularly effective in handling unstructured data like images, audio, and text?\", \"options\": {\"a\": \"They rely on manually engineered features.\", \"b\": \"They automatically learn hierarchical features from raw data.\", \"c\": \"They use traditional machine learning methods.\", \"d\": \"They are not affected by data noise.\"}, \"correct\": \"b\"}, \"2\": {\"mcq\": \"Which of the following is NOT a key area where deep learning has led to significant improvements?\", \"options\": {\"a\": \"Speech recognition\", \"b\": \"Image classification\", \"c\": \"Autonomous systems\", \"d\": \"Database management\"}, \"correct\": \"d\"}, \"3\": {\"mcq\": \"What type of neural network is specifically designed for processing and analyzing image data?\", \"options\": {\"a\": \"Recurrent Neural Networks (RNNs)\", \"b\": \"Convolutional Neural Networks (CNNs)\", \"c\": \"Generative Adversarial Networks (GANs)\", \"d\": \"Transformer Networks\"}, \"correct\": \"b\"}}\n",
      "```\n",
      "\n",
      "Check from an expert English Writer of the above quiz:\n",
      "\u001b[0m\n",
      "\n",
      "\u001b[1m> Finished chain.\u001b[0m\n",
      "\n",
      "\u001b[1m> Finished chain.\u001b[0m\n"
     ]
    }
   ],
   "source": [
    "response = generate_evaluate_chain(\n",
    "    {\n",
    "        \"text\": TEXT,\n",
    "        \"number\": NUM,\n",
    "        \"subject\": SUB,\n",
    "        \"tone\": TONE,\n",
    "        \"response_json\": json.dumps(RESPONSE_JSON)\n",
    "    }\n",
    ")"
   ]
  },
  {
   "cell_type": "code",
   "execution_count": 208,
   "metadata": {},
   "outputs": [
    {
     "data": {
      "text/plain": [
       "{'text': 'Deep Learning is a specialized area within the broader field of machine learning that focuses on algorithms modeled after the human brain’s architecture. It employs deep neural networks, which consist of multiple layers of interconnected nodes, to process data and identify intricate patterns and representations. Unlike traditional machine learning methods, which often rely on manually engineered features, deep learning models automatically learn hierarchical features directly from raw data. This capability makes them particularly effective in handling and analyzing large volumes of unstructured data such as images, audio, and text. The training of deep learning models is computationally intensive and typically requires powerful hardware like GPUs or TPUs to handle the large-scale data and complex calculations involved. Advances in deep learning have led to significant improvements in areas such as speech recognition, image classification, and autonomous systems, driving innovation across various industries.\\n\\nComputer Vision is a field that intersects with deep learning and focuses on enabling machines to interpret and understand visual information from the world, similar to how humans perceive and understand visual inputs. Using deep learning techniques, computer vision systems can perform tasks such as object detection, facial recognition, and image segmentation with high accuracy. Convolutional Neural Networks (CNNs) are a cornerstone of computer vision, designed specifically to process and analyze image data by capturing spatial hierarchies and patterns. These networks use convolutional layers to detect features like edges, textures, and shapes, which are then combined through deeper layers to understand more complex structures. Applications of computer vision are vast, ranging from medical imaging and autonomous vehicles to augmented reality and facial recognition systems, transforming how visual data is processed and utilized in technology.\\n\\nNatural Language Processing (NLP) is a subfield of artificial intelligence that focuses on the interaction between computers and human language. NLP enables machines to understand, interpret, and generate human language in a way that is both meaningful and useful. Deep learning has revolutionized NLP by providing sophisticated models that can handle tasks such as machine translation, sentiment analysis, and text generation. Techniques like Recurrent Neural Networks (RNNs) and Transformers are pivotal in NLP, as they excel at capturing the sequential and contextual nature of language. Transformers, in particular, have become the foundation of state-of-the-art language models like GPT (Generative Pre-trained Transformer) and BERT (Bidirectional Encoder Representations from Transformers), which are capable of generating coherent text, answering questions, and performing complex language understanding tasks. The advancements in NLP driven by deep learning are enhancing communication technologies, improving automated customer service, and enabling more intuitive human-computer interactions.',\n",
       " 'number': 3,\n",
       " 'subject': 'Deep Learning',\n",
       " 'tone': 'Mid',\n",
       " 'response_json': '{\"1\": {\"mcq\": \"multiple choice question\", \"options\": {\"a\": \"choice here\", \"b\": \"choice here\", \"c\": \"choice here\", \"d\": \"choice here\"}, \"correct\": \"correct answer\"}, \"2\": {\"mcq\": \"multiple choice question\", \"options\": {\"a\": \"choice here\", \"b\": \"choice here\", \"c\": \"choice here\", \"d\": \"choice here\"}, \"correct\": \"correct answer\"}, \"3\": {\"mcq\": \"multiple choice question\", \"options\": {\"a\": \"choice here\", \"b\": \"choice here\", \"c\": \"choice here\", \"d\": \"choice here\"}, \"correct\": \"correct answer\"}}',\n",
       " 'quiz': '```json\\n{\"1\": {\"mcq\": \"What makes deep learning models particularly effective in handling unstructured data like images, audio, and text?\", \"options\": {\"a\": \"They rely on manually engineered features.\", \"b\": \"They automatically learn hierarchical features from raw data.\", \"c\": \"They use traditional machine learning methods.\", \"d\": \"They are not affected by data noise.\"}, \"correct\": \"b\"}, \"2\": {\"mcq\": \"Which of the following is NOT a key area where deep learning has led to significant improvements?\", \"options\": {\"a\": \"Speech recognition\", \"b\": \"Image classification\", \"c\": \"Autonomous systems\", \"d\": \"Database management\"}, \"correct\": \"d\"}, \"3\": {\"mcq\": \"What type of neural network is specifically designed for processing and analyzing image data?\", \"options\": {\"a\": \"Recurrent Neural Networks (RNNs)\", \"b\": \"Convolutional Neural Networks (CNNs)\", \"c\": \"Generative Adversarial Networks (GANs)\", \"d\": \"Transformer Networks\"}, \"correct\": \"b\"}}\\n```',\n",
       " 'review': \"## Quiz Analysis:\\n\\n**Complexity:** The quiz is appropriate for introductory deep learning students. Questions are clear, concise, and assess basic knowledge of key concepts.\\n\\n**Analysis:**\\n\\n* **Question 1:**  Well-structured, highlighting the core advantage of deep learning over traditional methods.\\n* **Question 2:**  A good test of understanding deep learning's impact across various domains.\\n* **Question 3:**  Directly assesses knowledge of specific network architectures, a fundamental aspect of deep learning.\\n\\n**Overall:** This quiz effectively assesses basic knowledge of deep learning principles and applications. No significant changes are required. \\n\"}"
      ]
     },
     "execution_count": 208,
     "metadata": {},
     "output_type": "execute_result"
    }
   ],
   "source": [
    "response"
   ]
  },
  {
   "cell_type": "code",
   "execution_count": 209,
   "metadata": {},
   "outputs": [
    {
     "name": "stdout",
     "output_type": "stream",
     "text": [
      "```json\n",
      "{\"1\": {\"mcq\": \"What makes deep learning models particularly effective in handling unstructured data like images, audio, and text?\", \"options\": {\"a\": \"They rely on manually engineered features.\", \"b\": \"They automatically learn hierarchical features from raw data.\", \"c\": \"They use traditional machine learning methods.\", \"d\": \"They are not affected by data noise.\"}, \"correct\": \"b\"}, \"2\": {\"mcq\": \"Which of the following is NOT a key area where deep learning has led to significant improvements?\", \"options\": {\"a\": \"Speech recognition\", \"b\": \"Image classification\", \"c\": \"Autonomous systems\", \"d\": \"Database management\"}, \"correct\": \"d\"}, \"3\": {\"mcq\": \"What type of neural network is specifically designed for processing and analyzing image data?\", \"options\": {\"a\": \"Recurrent Neural Networks (RNNs)\", \"b\": \"Convolutional Neural Networks (CNNs)\", \"c\": \"Generative Adversarial Networks (GANs)\", \"d\": \"Transformer Networks\"}, \"correct\": \"b\"}}\n",
      "```\n"
     ]
    }
   ],
   "source": [
    "quiz = response.get(\"quiz\")\n",
    "print(quiz)"
   ]
  },
  {
   "cell_type": "code",
   "execution_count": 234,
   "metadata": {},
   "outputs": [],
   "source": [
    "# Since the response is in markdown format, removing the markers\n",
    "def extract_json_from_markdown(markdown_string):\n",
    "    start_marker = '```json'\n",
    "    end_marker = '```'\n",
    "    start = markdown_string.find(start_marker) + len(start_marker)\n",
    "    end = markdown_string.find(end_marker, start)\n",
    "    return markdown_string[start:end].strip()\n",
    "\n",
    "cleaned_json = extract_json_from_markdown(quiz)"
   ]
  },
  {
   "cell_type": "code",
   "execution_count": 211,
   "metadata": {},
   "outputs": [
    {
     "name": "stdout",
     "output_type": "stream",
     "text": [
      "{\"1\": {\"mcq\": \"What makes deep learning models particularly effective in handling unstructured data like images, audio, and text?\", \"options\": {\"a\": \"They rely on manually engineered features.\", \"b\": \"They automatically learn hierarchical features from raw data.\", \"c\": \"They use traditional machine learning methods.\", \"d\": \"They are not affected by data noise.\"}, \"correct\": \"b\"}, \"2\": {\"mcq\": \"Which of the following is NOT a key area where deep learning has led to significant improvements?\", \"options\": {\"a\": \"Speech recognition\", \"b\": \"Image classification\", \"c\": \"Autonomous systems\", \"d\": \"Database management\"}, \"correct\": \"d\"}, \"3\": {\"mcq\": \"What type of neural network is specifically designed for processing and analyzing image data?\", \"options\": {\"a\": \"Recurrent Neural Networks (RNNs)\", \"b\": \"Convolutional Neural Networks (CNNs)\", \"c\": \"Generative Adversarial Networks (GANs)\", \"d\": \"Transformer Networks\"}, \"correct\": \"b\"}}\n"
     ]
    }
   ],
   "source": [
    "print(cleaned_json)"
   ]
  },
  {
   "cell_type": "code",
   "execution_count": 212,
   "metadata": {},
   "outputs": [
    {
     "name": "stdout",
     "output_type": "stream",
     "text": [
      "{'1': {'mcq': 'What makes deep learning models particularly effective in handling unstructured data like images, audio, and text?', 'options': {'a': 'They rely on manually engineered features.', 'b': 'They automatically learn hierarchical features from raw data.', 'c': 'They use traditional machine learning methods.', 'd': 'They are not affected by data noise.'}, 'correct': 'b'}, '2': {'mcq': 'Which of the following is NOT a key area where deep learning has led to significant improvements?', 'options': {'a': 'Speech recognition', 'b': 'Image classification', 'c': 'Autonomous systems', 'd': 'Database management'}, 'correct': 'd'}, '3': {'mcq': 'What type of neural network is specifically designed for processing and analyzing image data?', 'options': {'a': 'Recurrent Neural Networks (RNNs)', 'b': 'Convolutional Neural Networks (CNNs)', 'c': 'Generative Adversarial Networks (GANs)', 'd': 'Transformer Networks'}, 'correct': 'b'}}\n"
     ]
    }
   ],
   "source": [
    "data = json.loads(cleaned_json)\n",
    "print(data)"
   ]
  },
  {
   "cell_type": "code",
   "execution_count": 221,
   "metadata": {},
   "outputs": [],
   "source": [
    "# Prepare lists to store the data\n",
    "mcqs = []\n",
    "choices = []\n",
    "correct_answers = []\n",
    "\n",
    "# Loop through each question in the data\n",
    "for question in data.values():\n",
    "    mcqs.append(question['mcq'])\n",
    "    choices.append(question['options'])\n",
    "    correct_answers.append(question['correct'])"
   ]
  },
  {
   "cell_type": "code",
   "execution_count": 227,
   "metadata": {},
   "outputs": [],
   "source": [
    "import pandas as pd\n",
    "\n",
    "# Create a DataFrame\n",
    "quiz_df = pd.DataFrame({\n",
    "    \"MCQ\": mcqs,\n",
    "    \"CHOICES\": choices,\n",
    "    \"CORRECT ANSWER\": correct_answers\n",
    "})"
   ]
  },
  {
   "cell_type": "code",
   "execution_count": 229,
   "metadata": {},
   "outputs": [
    {
     "data": {
      "text/html": [
       "<div>\n",
       "<style scoped>\n",
       "    .dataframe tbody tr th:only-of-type {\n",
       "        vertical-align: middle;\n",
       "    }\n",
       "\n",
       "    .dataframe tbody tr th {\n",
       "        vertical-align: top;\n",
       "    }\n",
       "\n",
       "    .dataframe thead th {\n",
       "        text-align: right;\n",
       "    }\n",
       "</style>\n",
       "<table border=\"1\" class=\"dataframe\">\n",
       "  <thead>\n",
       "    <tr style=\"text-align: right;\">\n",
       "      <th></th>\n",
       "      <th>MCQ</th>\n",
       "      <th>CHOICES</th>\n",
       "      <th>CORRECT ANSWER</th>\n",
       "    </tr>\n",
       "  </thead>\n",
       "  <tbody>\n",
       "    <tr>\n",
       "      <th>0</th>\n",
       "      <td>What makes deep learning models particularly e...</td>\n",
       "      <td>{'a': 'They rely on manually engineered featur...</td>\n",
       "      <td>b</td>\n",
       "    </tr>\n",
       "    <tr>\n",
       "      <th>1</th>\n",
       "      <td>Which of the following is NOT a key area where...</td>\n",
       "      <td>{'a': 'Speech recognition', 'b': 'Image classi...</td>\n",
       "      <td>d</td>\n",
       "    </tr>\n",
       "    <tr>\n",
       "      <th>2</th>\n",
       "      <td>What type of neural network is specifically de...</td>\n",
       "      <td>{'a': 'Recurrent Neural Networks (RNNs)', 'b':...</td>\n",
       "      <td>b</td>\n",
       "    </tr>\n",
       "  </tbody>\n",
       "</table>\n",
       "</div>"
      ],
      "text/plain": [
       "                                                 MCQ  \\\n",
       "0  What makes deep learning models particularly e...   \n",
       "1  Which of the following is NOT a key area where...   \n",
       "2  What type of neural network is specifically de...   \n",
       "\n",
       "                                             CHOICES CORRECT ANSWER  \n",
       "0  {'a': 'They rely on manually engineered featur...              b  \n",
       "1  {'a': 'Speech recognition', 'b': 'Image classi...              d  \n",
       "2  {'a': 'Recurrent Neural Networks (RNNs)', 'b':...              b  "
      ]
     },
     "execution_count": 229,
     "metadata": {},
     "output_type": "execute_result"
    }
   ],
   "source": [
    "quiz_df"
   ]
  },
  {
   "cell_type": "code",
   "execution_count": 231,
   "metadata": {},
   "outputs": [],
   "source": [
    "# Save the dataframe in csv file\n",
    "quiz_df.to_csv('DeepLearning.csv',index=False)"
   ]
  }
 ],
 "metadata": {
  "kernelspec": {
   "display_name": "Python 3",
   "language": "python",
   "name": "python3"
  },
  "language_info": {
   "codemirror_mode": {
    "name": "ipython",
    "version": 3
   },
   "file_extension": ".py",
   "mimetype": "text/x-python",
   "name": "python",
   "nbconvert_exporter": "python",
   "pygments_lexer": "ipython3",
   "version": "3.10.14"
  }
 },
 "nbformat": 4,
 "nbformat_minor": 2
}
